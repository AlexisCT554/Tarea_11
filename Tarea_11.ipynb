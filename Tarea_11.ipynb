{
  "nbformat": 4,
  "nbformat_minor": 0,
  "metadata": {
    "colab": {
      "name": "arboles_1310.ipynb",
      "provenance": []
    },
    "kernelspec": {
      "name": "python3",
      "display_name": "Python 3"
    },
    "language_info": {
      "name": "python"
    }
  },
  "cells": [
    {
      "cell_type": "code",
      "metadata": {
        "id": "Au-eJpJtCKpw"
      },
      "source": [
        "class NodoBinario:\n",
        "  def __init__(self, value, left = None , right = None):\n",
        "    self.data = value\n",
        "    self.left = left\n",
        "    self.right = right\n",
        "\n",
        "\n",
        "class NodoTernario:\n",
        "    def __init__(self, value, left = None ,center = None, right = None):\n",
        "      self.data = value\n",
        "      self.left = left\n",
        "      self.center = center\n",
        "      self.right = right\n"
      ],
      "execution_count": 1,
      "outputs": []
    },
    {
      "cell_type": "code",
      "metadata": {
        "colab": {
          "base_uri": "https://localhost:8080/"
        },
        "id": "5Gn5IrQpDy9j",
        "outputId": "4c14c2b9-ac4d-4fba-c54f-f422be60c704"
      },
      "source": [
        "arbol1= NodoBinario(\"R\",NodoBinario(\"C\"),NodoBinario(\"H\"))\n",
        "print(arbol1.right.data)\n",
        "\n",
        "arbol2 = NodoTernario(4,NodoTernario(3,NodoTernario(5,left=NodoTernario(2)),NodoTernario(5),NodoTernario(2)), None , NodoTernario(5))\n",
        "print(arbol2.left.right.data)\n",
        "print(arbol2.data)\n",
        "print(arbol2.left.center.data)\n",
        "print(arbol2.right.left)\n",
        "print(arbol2.left.left.left.data)\n",
        "print(\"---------imprimir el mismo sin usar la palabra left en el print------------\")\n",
        "aux = arbol2\n",
        "while (aux.left != None):\n",
        "  aux = aux.left\n",
        "print(aux.data)"
      ],
      "execution_count": 2,
      "outputs": [
        {
          "output_type": "stream",
          "name": "stdout",
          "text": [
            "H\n",
            "2\n",
            "4\n",
            "5\n",
            "None\n",
            "2\n",
            "---------imprimir el mismo sin usar la palabra left en el print------------\n",
            "2\n"
          ]
        }
      ]
    },
    {
      "cell_type": "code",
      "metadata": {
        "colab": {
          "base_uri": "https://localhost:8080/"
        },
        "id": "F6RevyBWHJCp",
        "outputId": "cb4ba9a1-1b43-4c4e-d68c-c9f2bf67c005"
      },
      "source": [
        "root = NodoBinario(\"Santi\",None,NodoBinario(\"Jesus\",NodoBinario(\"Pedro\",None,NodoBinario(\"Pedro jr\"))))\n",
        "print(root.right.left.right.data)"
      ],
      "execution_count": 3,
      "outputs": [
        {
          "output_type": "stream",
          "name": "stdout",
          "text": [
            "Pedro jr\n"
          ]
        }
      ]
    },
    {
      "cell_type": "code",
      "metadata": {
        "id": "Fi1bENeR5k4H"
      },
      "source": [
        "class BinaryNode:\n",
        "  def __init__(self, value, left = None , right = None):\n",
        "    self.data = value\n",
        "    self.left = left\n",
        "    self.right = right\n",
        "\n",
        "class BinarySearchTree:\n",
        "  def __init__(self):\n",
        "    self.root = None\n",
        "\n",
        "  def insert (self,value):\n",
        "    if self.root == None:\n",
        "      self.root = BinaryNode(value)\n",
        "    else:\n",
        "      self.__insert_nodo(self.root,value)\n",
        "      \n",
        "\n",
        "\n",
        "  def __insert_nodo(self,nodo,value):\n",
        "    if nodo.data == value:\n",
        "      pass\n",
        "    elif value < nodo.data: #ir a la izquierda\n",
        "      if nodo.left == None:\n",
        "        nodo.left = BinaryNode(value)\n",
        "      else:\n",
        "        self.__insert_nodo(nodo.left,value)\n",
        "    else: # ir a la derecha\n",
        "      if nodo.right == None:\n",
        "        nodo.right = BinaryNode(value)\n",
        "      else:\n",
        "        self.__insert_nodo(nodo.right,value)\n",
        "\n",
        "  def transversal(self,formato = \"posorden\"):\n",
        "    if formato == \"posorden\":\n",
        "      self.recorrido_pos(self.root)\n",
        "    elif formato == \"preorden\":\n",
        "      self.recorrido_pre(self.root)\n",
        "    else: #inorden\n",
        "      self.recorrido_in(self.root)\n",
        "    print()\n",
        "  def recorrido_pos(self,nodo):\n",
        "    if nodo != None:\n",
        "      self.recorrido_pos(nodo.left)\n",
        "      self.recorrido_pos(nodo.right)\n",
        "      print(str(nodo.data),end =\",\")\n",
        "\n",
        "  def recorrido_pre(self,nodo):\n",
        "    if nodo != None:\n",
        "      print(str(nodo.data),end =\",\")\n",
        "      self.recorrido_pre(nodo.left)\n",
        "      self.recorrido_pre(nodo.right)\n",
        "\n",
        "  def recorrido_in(self,nodo):\n",
        "    if nodo != None:\n",
        "      self.recorrido_in(nodo.left)\n",
        "      print(str(nodo.data),end =\",\")\n",
        "      self.recorrido_in(nodo.right)\n",
        "\n",
        "  def search(self,value):\n",
        "    if self.root == None:\n",
        "      print(\"El árbol esta vacío\")\n",
        "      return None\n",
        "    else:\n",
        "      self.__search(self.root,value)\n",
        "  \n",
        "  def __search(self, nodo, value):\n",
        "    if nodo.data == None:\n",
        "      print(\"El dato no existe en el árbol\")\n",
        "      return None\n",
        "    elif nodo.data == value:\n",
        "      print(\"Encontrado\")\n",
        "      return nodo\n",
        "    elif value < nodo.data:\n",
        "      return self.__buscar(nodo.left,value)\n",
        "    else:\n",
        "      return self.__buscar(nodo.right,value)"
      ],
      "execution_count": 4,
      "outputs": []
    },
    {
      "cell_type": "code",
      "metadata": {
        "colab": {
          "base_uri": "https://localhost:8080/"
        },
        "id": "7t6yqY8A9Zrk",
        "outputId": "9e17db89-ee20-45e4-c661-050499af0b08"
      },
      "source": [
        "arb1 = BinarySearchTree()\n",
        "arb1.insert(60)\n",
        "arb1.insert(30)\n",
        "arb1.insert(15)\n",
        "arb1.insert(40)\n",
        "arb1.transversal()\n",
        "arb1.transversal(\"preorden\")\n",
        "arb1.transversal(\"inorden\")"
      ],
      "execution_count": 5,
      "outputs": [
        {
          "output_type": "stream",
          "name": "stdout",
          "text": [
            "15,40,30,60,\n",
            "60,30,15,40,\n",
            "15,30,40,60,\n"
          ]
        }
      ]
    },
    {
      "cell_type": "code",
      "metadata": {
        "id": "tr3i1k6vI7MM"
      },
      "source": [
        "class BinaryNode:\n",
        "    def __init__( self , value , left=None , rigth= None ):\n",
        "        self.data = value\n",
        "        self.left = left\n",
        "        self.rigth = rigth\n",
        " \n",
        "class BinarySearchTree:\n",
        "    def __init__( self ):\n",
        "        self.root = None\n",
        "    \n",
        "    def insert( self , value ):\n",
        "        if self.root == None:\n",
        "            self.root = BinaryNode( value )\n",
        "        else:\n",
        "            self.__insert_nodo( self.root , value )\n",
        "        \n",
        "    def __insert_nodo(self , nodo , value ):\n",
        "        if nodo.data == value: \n",
        "            pass\n",
        "        elif value < nodo.data:# ir a la izq\n",
        "            if nodo.left == None:\n",
        "                nodo.left = BinaryNode( value )\n",
        "            else:\n",
        "                self.__insert_nodo( nodo.left , value )\n",
        "        else:  # ir a la derecha\n",
        "            if nodo.rigth == None:\n",
        "                nodo.rigth = BinaryNode( value )\n",
        "            else:\n",
        "                self.__insert_nodo( nodo.rigth , value )\n",
        "    \n",
        "    def transversal( self , formato = \"posorden\"):\n",
        "        if formato == \"posorden\":\n",
        "            self.recorrido_pos( self.root )\n",
        "        elif formato == \"preorden\":\n",
        "            self.recorrido_pre(self.root )\n",
        "        else: # inorden\n",
        "            self.recorrido_in( self.root )\n",
        "        print()\n",
        " \n",
        "    def  recorrido_pos( self , nodo ):\n",
        "        if nodo != None:\n",
        "            self.recorrido_pos( nodo.left )\n",
        "            self.recorrido_pos( nodo.rigth )\n",
        "            print( str(nodo.data) , end=\" , \" )\n",
        "    \n",
        "    def  recorrido_pre( self , nodo ):\n",
        "        if nodo != None:\n",
        "            print( str(nodo.data) , end=\" , \" )\n",
        "            self.recorrido_pre( nodo.left )\n",
        "            self.recorrido_pre( nodo.rigth )\n",
        "    \n",
        "    def  recorrido_in( self , nodo ):\n",
        "        if nodo != None:\n",
        "            self.recorrido_in( nodo.left )\n",
        "            print( str(nodo.data) , end=\" , \" )\n",
        "            self.recorrido_in( nodo.rigth ) \n",
        " \n",
        "    def search( self , value ):\n",
        "        if self.root == None:\n",
        "            print(\"El árbol está vacío\")\n",
        "            return None\n",
        "        else:\n",
        "            return self.__search( self.root , value )\n",
        " \n",
        "    def __search( self , nodo , value ):\n",
        "        if nodo == None:\n",
        "            print(\"El dato no existe en el árbol\") \n",
        "            return None\n",
        "        elif nodo.data == value:\n",
        "            print(\"Encontrado\", nodo.data)\n",
        "            return nodo\n",
        "        elif value < nodo.data:\n",
        "            return self.__search( nodo.left , value  )\n",
        "        else:\n",
        "            return self.__search( nodo.rigth , value  )  \n",
        "\n",
        "    def remove( self , value ):\n",
        "        if self.root == None:\n",
        "            print(\"El arbol esta vacio\")\n",
        "            return None\n",
        "        else:\n",
        "            return self.__remove( self.root , value )\n",
        "    \n",
        "    def __remove( self, nodo , value ):\n",
        "        if nodo == None:\n",
        "            print(\"El dato no existe en el árbol\") \n",
        "            return None\n",
        "        elif nodo.data == value:\n",
        "            print(\"Eliminando\", nodo.data)\n",
        "            \n",
        "            return nodo\n",
        "        elif value < nodo.data:\n",
        "            return self.__remove( nodo.left , value  )\n",
        "        else:\n",
        "            return self.__remove( nodo.rigth , value  )"
      ],
      "execution_count": 6,
      "outputs": []
    },
    {
      "cell_type": "code",
      "metadata": {
        "colab": {
          "base_uri": "https://localhost:8080/"
        },
        "id": "2yQXrgbpLI2r",
        "outputId": "af465cf7-e68f-41d5-a2ec-ff519e2e62cd"
      },
      "source": [
        "abb = BinarySearchTree()\n",
        "abb.insert(30)\n",
        "abb.insert(15)\n",
        "abb.insert(45)\n",
        "abb.insert(12)\n",
        "abb.insert(17)\n",
        "abb.insert(50)\n",
        "abb.insert(55)\n",
        "abb.insert(35)\n",
        "abb.insert(2)\n",
        "abb.insert(1)\n",
        "abb.insert(80)\n",
        "abb.insert(60)\n",
        "abb.transversal(\"posorden\")\n",
        "abb.transversal(\"preorden\")\n",
        "abb.transversal(\"inorden\")\n",
        "res = abb.search(45)\n",
        "print(res) #imprime referencia de mem del nodo resultante\n",
        "print(res.data) #45\n",
        "print(res.left.data)\n",
        "abb.remove(60)\n",
        "\n"
      ],
      "execution_count": 9,
      "outputs": [
        {
          "output_type": "stream",
          "name": "stdout",
          "text": [
            "1 , 2 , 12 , 17 , 15 , 35 , 60 , 80 , 55 , 50 , 45 , 30 , \n",
            "30 , 15 , 12 , 2 , 1 , 17 , 45 , 35 , 50 , 55 , 80 , 60 , \n",
            "1 , 2 , 12 , 15 , 17 , 30 , 35 , 45 , 50 , 55 , 60 , 80 , \n",
            "Encontrado 45\n",
            "<__main__.BinaryNode object at 0x7f7fc37117d0>\n",
            "45\n",
            "35\n",
            "Eliminando 60\n"
          ]
        },
        {
          "output_type": "execute_result",
          "data": {
            "text/plain": [
              "<__main__.BinaryNode at 0x7f7fc37115d0>"
            ]
          },
          "metadata": {},
          "execution_count": 9
        }
      ]
    }
  ]
}